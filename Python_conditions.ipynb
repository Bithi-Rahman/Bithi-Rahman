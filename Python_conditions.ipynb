{
  "nbformat": 4,
  "nbformat_minor": 0,
  "metadata": {
    "colab": {
      "provenance": [],
      "authorship_tag": "ABX9TyN2IW5j/V8sIoAm5oJs5BN5",
      "include_colab_link": true
    },
    "kernelspec": {
      "name": "python3",
      "display_name": "Python 3"
    },
    "language_info": {
      "name": "python"
    }
  },
  "cells": [
    {
      "cell_type": "markdown",
      "metadata": {
        "id": "view-in-github",
        "colab_type": "text"
      },
      "source": [
        "<a href=\"https://colab.research.google.com/github/Bithi-Rahman/Bithi-Rahman/blob/main/Python_conditions.ipynb\" target=\"_parent\"><img src=\"https://colab.research.google.com/assets/colab-badge.svg\" alt=\"Open In Colab\"/></a>"
      ]
    },
    {
      "cell_type": "code",
      "execution_count": 23,
      "metadata": {
        "colab": {
          "base_uri": "https://localhost:8080/"
        },
        "id": "46ULa3x0pDOs",
        "outputId": "eda9af32-b9ca-423a-e623-f52ee7a9a5ad"
      },
      "outputs": [
        {
          "output_type": "stream",
          "name": "stdout",
          "text": [
            "They are not egual\n"
          ]
        }
      ],
      "source": [
        "if 2 =='2.0':\n",
        "  print (\"they are equal\")\n",
        "else:\n",
        "  print (\"They are not egual\")\n"
      ]
    },
    {
      "cell_type": "code",
      "source": [
        "a= 2\n",
        "b= 2\n",
        "if a == b:\n",
        "  print (\"The value of A is equal to B\")\n",
        "else:\n",
        "  print (\"A is not equal to B\")"
      ],
      "metadata": {
        "colab": {
          "base_uri": "https://localhost:8080/"
        },
        "id": "2z495VSGveeH",
        "outputId": "d462049b-acdb-44be-8b6f-8f0dc0c3dd13"
      },
      "execution_count": 24,
      "outputs": [
        {
          "output_type": "stream",
          "name": "stdout",
          "text": [
            "The value of A is equal to B\n"
          ]
        }
      ]
    },
    {
      "cell_type": "code",
      "source": [
        "z= 17\n",
        "mulbo= 16\n",
        "if z > mulbo:\n",
        "  print (\"I can buy the product\")\n",
        "else:\n",
        "  print (\"Can't able to buy the Product\")"
      ],
      "metadata": {
        "colab": {
          "base_uri": "https://localhost:8080/"
        },
        "id": "pw7RYpi1z5-z",
        "outputId": "4da55cd5-e3d6-4711-a4cd-116441f319ac"
      },
      "execution_count": 25,
      "outputs": [
        {
          "output_type": "stream",
          "name": "stdout",
          "text": [
            "I can buy the product\n"
          ]
        }
      ]
    }
  ]
}